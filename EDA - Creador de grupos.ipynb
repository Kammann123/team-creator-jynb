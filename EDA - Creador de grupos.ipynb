{
 "cells": [
  {
   "cell_type": "markdown",
   "metadata": {},
   "source": [
    "## Creador de grupos para EDA\n",
    "Se pueden cargar los alumnos desde un archivo '.csv' ingresando el path en la variable filename. Luego hay que configurar cuantos trabajos prácticos (iterations) se van a dar, y cómo se desean distribuir los grupos, esto último puede ser por ejemplo querer crear a partir de diez alumnos, 3 grupos que sean dos de tres alumnos y uno de cuatro alumnos.\n",
    "\n",
    "### Ayudantes 2020\n",
    "* Stewart Harris, Maria Luz\n",
    "* Trozzo, Rafael Nicolás\n",
    "* Kammann, Lucas Agustín"
   ]
  },
  {
   "cell_type": "code",
   "execution_count": null,
   "metadata": {},
   "outputs": [],
   "source": [
    "# from random import shuffle\n",
    "\n",
    "class Student:\n",
    "    \"\"\" Clase alumno\n",
    "    \"\"\"\n",
    "    def __init__(self, first_name, last_name, email):\n",
    "        self.first_name = first_name\n",
    "        self.last_name = last_name\n",
    "        self.email = email\n",
    "    \n",
    "    def __str__(self):\n",
    "        return self.last_name\n",
    "\n",
    "    def __eq__(self, other):\n",
    "        return self.last_name == other.last_name and self.first_name == other.first_name\n",
    "\n",
    "def search_by_last_name(students: list, last_name: str) -> Student:\n",
    "    \"\"\"\n",
    "    Devuelve el objeto Student dentro de la lista con ese apellido.\n",
    "    :param students: Lista de estudiantes\n",
    "    :param last_name: Apellido\n",
    "    :return: Objecto Student\n",
    "    \"\"\"\n",
    "    for student in students:\n",
    "        if student.last_name == last_name:\n",
    "            return student\n",
    "    return None\n",
    "\n",
    "# Se cargan del archivo 'filename' directo de un .csv todos los alumnos\n",
    "# que se encuentran registrados para la cursada. Se cargan como objetos Student.\n",
    "filename = 'alumnos_eda_20201Q.csv'\n",
    "file = open(filename, 'r')\n",
    "students = []\n",
    "for index, line in enumerate(file):\n",
    "    if index:\n",
    "        first_name, last_name, email = line.split(',')\n",
    "        students.append(Student(first_name, last_name, email))\n",
    "shuffle(students)\n",
    "\n",
    "# Carga de los parametros del algoritmo, se puede cargar una semana inicial, en caso de\n",
    "# ser necesario, de otra forma se debe cargar con un contenido None.\n",
    "# starting_week: None o Lista con grupos para la primera semana\n",
    "# distribution: Distribucion de grupos, cuantos grupos y de que cantidades\n",
    "# iterations: Cantidad de trabajos practicos\n",
    "starting_week = [\n",
    "    [\n",
    "        search_by_last_name(students, 'BATINIC REY'),\n",
    "        search_by_last_name(students, 'CORCOS'),\n",
    "        search_by_last_name(students, 'DE LEON'),\n",
    "        search_by_last_name(students, 'FRANCOIS')\n",
    "    ],\n",
    "    [\n",
    "        search_by_last_name(students, 'IRIGOYEN'),\n",
    "        search_by_last_name(students, 'MATTALONI VARONA'),\n",
    "        search_by_last_name(students, 'MINNUCCI')\n",
    "    ],\n",
    "    [\n",
    "        search_by_last_name(students, 'QUIHILLALT'),\n",
    "        search_by_last_name(students, 'SCAPOLLA'),\n",
    "        search_by_last_name(students, 'VEKSELMAN')\n",
    "    ]\n",
    "]\n",
    "distribution = [3, 3, 4]\n",
    "iterations = 9\n",
    "\n",
    "# Presentacion de algunos datos\n",
    "print(f'Se desean armar {len(distribution)} grupos distribuidos de a {\", \".join([str(i) for i in distribution])} para {iterations} trabajos.')\n",
    "for i, student in enumerate(students):\n",
    "    print(f'Alumno - {i}: {student}')"
   ]
  },
  {
   "cell_type": "code",
   "execution_count": 107,
   "metadata": {
    "scrolled": false
   },
   "outputs": [],
   "source": [
    "from copy import copy\n",
    "\n",
    "def take_n_elements(elements: list, n: int, combination: list = []) -> list:\n",
    "    \"\"\"\n",
    "    A partir de una lista de elementos, se le pide que forme todas las combinaciones distintas sin orden tomando de a N\n",
    "    elementos. Entonces, devuelve una lista de listas donde cada una de estas últimas provee una combinacion de elementos.\n",
    "    :param elements: Lista de elementos distintos\n",
    "    :param n: Cantidad de elementos por combinacion\n",
    "    :return: Lista de combinaciones, combinacion es una lista de elementos.\n",
    "    \"\"\"\n",
    "    if elements and len(combination) < n:\n",
    "        combinations = []\n",
    "        for i, element in enumerate(elements):\n",
    "            new_combination = take_n_elements(elements[i + 1:], n, copy(combination + [element]))\n",
    "            if new_combination:\n",
    "                combinations += new_combination\n",
    "        return combinations\n",
    "    else:\n",
    "        return [combination] if len(combination) == n else []\n",
    "\n",
    "def take_groups(elements: list, distribution: list, current_week: list = []) -> list:\n",
    "    \"\"\"\n",
    "    A partir de una lista de elementos, y una lista de distribucion que determina cuantos grupos y de que cantidad\n",
    "    cada uno, se forman todos los casos posibles de tomar los elementos separandolos de a grupos.\n",
    "    :param elements: Lista de elementos distintos\n",
    "    :param distribution: Distribucion de grupos y alumnos\n",
    "    :return: Todas las posibles combinaciones de los grupos[\n",
    "    \"\"\"\n",
    "    if distribution:\n",
    "        groups = take_n_elements(elements, distribution[0])\n",
    "        weeks = []\n",
    "        for group in groups:\n",
    "            week = take_groups(\n",
    "                [element for element in elements if element not in group], \n",
    "                distribution[1:], \n",
    "                copy(current_week + [group])\n",
    "            )\n",
    "            weeks += week\n",
    "        return weeks\n",
    "    else:\n",
    "        return [current_week]\n",
    "\n",
    "def are_equal(week_one: list, week_two: list) -> bool:\n",
    "    \"\"\"\n",
    "    Verifico si dos semanas son iguales en sus grupos.\n",
    "    :param week_one: Semana\n",
    "    :param week_two: Otra semana\n",
    "    :return: Son iguales, True. Son distintas, False.\n",
    "    \"\"\"\n",
    "    count = 0\n",
    "    for group_one in week_one:\n",
    "        for group_two in week_two:\n",
    "            if len(group_one) == len(group_two):\n",
    "                for person_one in group_one:\n",
    "                    if person_one not in group_two:\n",
    "                        break\n",
    "                else:\n",
    "                    count += 1\n",
    "    return count == len(week_one)"
   ]
  },
  {
   "cell_type": "code",
   "execution_count": 108,
   "metadata": {},
   "outputs": [
    {
     "name": "stdout",
     "output_type": "stream",
     "text": [
      "Se han creado 2100 combinaciones posibles para cada tanda de trabajo práctico.\n"
     ]
    }
   ],
   "source": [
    "# Calculamos todas las combinaciones posible, no obstante hay repeticiones si hay cantidad de grupos repetidas\n",
    "weeks = take_groups(students, distribution)\n",
    "\n",
    "weeks_filtered = []\n",
    "for week in weeks:\n",
    "    for week_filtered in weeks_filtered:\n",
    "        if are_equal(week_filtered, week):\n",
    "            break\n",
    "    else:\n",
    "        weeks_filtered.append(week)\n",
    "weeks = weeks_filtered\n",
    "print(f'Se han creado {len(weeks)} combinaciones posibles para cada tanda de trabajo práctico.')"
   ]
  },
  {
   "cell_type": "code",
   "execution_count": 114,
   "metadata": {},
   "outputs": [],
   "source": [
    "def weight(weeks: list) -> dict:\n",
    "    \"\"\"\n",
    "    Calcula la cantidad de vistas entre dos alumnos a lo largo de las semanas.\n",
    "    :param combination: Lista de iteraciones de grupos de alumnos\n",
    "    :param students: Lista de alumnos\n",
    "    :return: Peso\n",
    "    \"\"\"\n",
    "    weights = {}\n",
    "    for week in weeks:\n",
    "        for group in week:\n",
    "            for i, first_person in enumerate(group):\n",
    "                for second_person in group[i + 1:]:\n",
    "                    if f'{first_person.last_name}|{second_person.last_name}' in weights.keys():\n",
    "                        weights[f'{first_person.last_name}|{second_person.last_name}'] += 1\n",
    "                    elif f'{second_person.last_name}|{first_person.last_name}' in weights.keys():\n",
    "                        weights[f'{second_person.last_name}|{first_person.last_name}'] += 1\n",
    "                    else:\n",
    "                        weights[f'{first_person.last_name}|{second_person.last_name}'] = 1\n",
    "    return weights\n",
    "\n",
    "def total_weight(weeks: list) -> int:\n",
    "    \"\"\"\n",
    "    Cantidad total de repeticiones entre personas.\n",
    "    :param weeks: Semanas elegidas\n",
    "    :return: Cantidad total.\n",
    "    \"\"\"\n",
    "    weights = weight(weeks)\n",
    "    total = 0\n",
    "    for value in weights.values():\n",
    "        total += value - 1\n",
    "    return total\n",
    "\n",
    "def cost(weeks: list) -> int:\n",
    "    \"\"\"\n",
    "    Calcula el costo de una iteracion de combinaciones. O sea, se recibe una lista donde cada elemento\n",
    "    es una combinacion de grupos, esto es, una lista de grupos que contienen a los alumnos.\n",
    "    :param combination: Lista de iteraciones de grupos de alumnos\n",
    "    :param students: Lista de alumnos\n",
    "    :return: Peso\n",
    "    \"\"\"\n",
    "    weights = weight(weeks)\n",
    "    cost = 0\n",
    "    for value in weights.values():\n",
    "        if value > 1:\n",
    "            cost += (2 ** (value - 1))\n",
    "    return cost"
   ]
  },
  {
   "cell_type": "code",
   "execution_count": 110,
   "metadata": {},
   "outputs": [
    {
     "name": "stdout",
     "output_type": "stream",
     "text": [
      "{'VEKSELMAN|QUIHILLALT': 3, 'VEKSELMAN|SCAPOLLA': 1, 'QUIHILLALT|SCAPOLLA': 2, 'MINNUCCI|IRIGOYEN': 3, 'MINNUCCI|MATTALONI VARONA': 1, 'IRIGOYEN|MATTALONI VARONA': 3, 'DE LEON|CORCOS': 3, 'DE LEON|FRANCOIS': 3, 'DE LEON|BATINIC REY': 2, 'CORCOS|FRANCOIS': 3, 'CORCOS|BATINIC REY': 3, 'FRANCOIS|BATINIC REY': 4, 'VEKSELMAN|DE LEON': 3, 'VEKSELMAN|MINNUCCI': 3, 'DE LEON|MINNUCCI': 1, 'QUIHILLALT|CORCOS': 1, 'QUIHILLALT|IRIGOYEN': 1, 'CORCOS|IRIGOYEN': 1, 'FRANCOIS|MATTALONI VARONA': 3, 'FRANCOIS|SCAPOLLA': 3, 'BATINIC REY|MATTALONI VARONA': 3, 'BATINIC REY|SCAPOLLA': 4, 'MATTALONI VARONA|SCAPOLLA': 3, 'VEKSELMAN|CORCOS': 2, 'VEKSELMAN|MATTALONI VARONA': 2, 'CORCOS|MATTALONI VARONA': 2, 'DE LEON|IRIGOYEN': 2, 'DE LEON|SCAPOLLA': 3, 'IRIGOYEN|SCAPOLLA': 3, 'QUIHILLALT|MINNUCCI': 2, 'QUIHILLALT|FRANCOIS': 2, 'QUIHILLALT|BATINIC REY': 3, 'MINNUCCI|FRANCOIS': 2, 'MINNUCCI|BATINIC REY': 3, 'QUIHILLALT|DE LEON': 3, 'QUIHILLALT|MATTALONI VARONA': 3, 'DE LEON|MATTALONI VARONA': 1, 'MINNUCCI|CORCOS': 3, 'MINNUCCI|SCAPOLLA': 2, 'CORCOS|SCAPOLLA': 3, 'VEKSELMAN|FRANCOIS': 1, 'VEKSELMAN|IRIGOYEN': 3, 'VEKSELMAN|BATINIC REY': 1, 'FRANCOIS|IRIGOYEN': 3, 'IRIGOYEN|BATINIC REY': 2}\n",
      "\n",
      "\n",
      "Resultado encontrado. Se ha encontrado una combinación de peso 108.\n"
     ]
    }
   ],
   "source": [
    "from random import random\n",
    "from pandas import DataFrame\n",
    "from math import floor\n",
    "\n",
    "# Primero, tengo que elegir un elemento al azar del cual partir.\n",
    "if starting_week:\n",
    "    for week in weeks:\n",
    "        if are_equal(week, starting_week):\n",
    "            start_week = week\n",
    "            break\n",
    "else:\n",
    "    start_week = [weeks[floor(random() * len(weeks))]]\n",
    "weeks.remove(start_week)\n",
    "result = [start_week]\n",
    "\n",
    "# Luego, tengo que buscar entre las combinaciones restantes aquella que de como resultado el menor de los costos\n",
    "# y quedarme con ella para luego volver a iniciar el proceso\n",
    "while len(result) < iterations:\n",
    "    lowest_week = None\n",
    "    lowest_cost = None\n",
    "    for week in weeks:\n",
    "        current_cost = cost(result + [week])\n",
    "        if lowest_cost is None or lowest_cost > current_cost:\n",
    "            lowest_cost = current_cost\n",
    "            lowest_week = week\n",
    "    else:\n",
    "        result.append(lowest_week)\n",
    "        weeks.remove(lowest_week)\n",
    "\n",
    "# Comunico resultado final\n",
    "print(weight(result))\n",
    "print(f'\\n\\nResultado encontrado. Se ha encontrado una combinación de peso {total_weight(result)}.')"
   ]
  },
  {
   "cell_type": "code",
   "execution_count": 111,
   "metadata": {},
   "outputs": [],
   "source": [
    "\"\"\" Representación amigable de los resultados del creador de grupos\n",
    "\"\"\"\n",
    "\n",
    "def html_group(index: int, group: list) -> str:\n",
    "    html = \"<div style='height: 150px;'>\"\n",
    "    html += f'<h3>Grupo {index}</h3>'\n",
    "    html += '<ul>'\n",
    "    for person in group:\n",
    "        html += f'<li>{person}</li>'\n",
    "    html += '</ul>'\n",
    "    html += \"</div>\"\n",
    "    return html\n",
    "\n",
    "def html_week(groups: list) -> str:\n",
    "    html = \"<div style='float: left; width: 100px;'>\"\n",
    "    for index, group in enumerate(groups):\n",
    "        html += html_group(index + 1, group)\n",
    "    html += \"</div>\"\n",
    "    return html\n",
    "\n",
    "def html_weeks(weeks: list) -> str:\n",
    "    html = \"<div style='overflow: hidden;'>\"\n",
    "    for week in weeks:\n",
    "        html += html_week(week)\n",
    "    html += \"</div>\"\n",
    "    return html"
   ]
  },
  {
   "cell_type": "code",
   "execution_count": 115,
   "metadata": {},
   "outputs": [
    {
     "data": {
      "text/html": [
       "<h1>Algoritmo buscando el siguiente menos costoso</h1>"
      ],
      "text/plain": [
       "<IPython.core.display.HTML object>"
      ]
     },
     "metadata": {},
     "output_type": "display_data"
    },
    {
     "data": {
      "text/html": [
       "<div style='overflow: hidden;'><div style='float: left; width: 100px;'><div style='height: 150px;'><h3>Grupo 1</h3><ul><li>VEKSELMAN</li><li>QUIHILLALT</li><li>SCAPOLLA</li></ul></div><div style='height: 150px;'><h3>Grupo 2</h3><ul><li>MINNUCCI</li><li>IRIGOYEN</li><li>MATTALONI VARONA</li></ul></div><div style='height: 150px;'><h3>Grupo 3</h3><ul><li>DE LEON</li><li>CORCOS</li><li>FRANCOIS</li><li>BATINIC REY</li></ul></div></div><div style='float: left; width: 100px;'><div style='height: 150px;'><h3>Grupo 1</h3><ul><li>VEKSELMAN</li><li>DE LEON</li><li>MINNUCCI</li></ul></div><div style='height: 150px;'><h3>Grupo 2</h3><ul><li>QUIHILLALT</li><li>CORCOS</li><li>IRIGOYEN</li></ul></div><div style='height: 150px;'><h3>Grupo 3</h3><ul><li>FRANCOIS</li><li>BATINIC REY</li><li>MATTALONI VARONA</li><li>SCAPOLLA</li></ul></div></div><div style='float: left; width: 100px;'><div style='height: 150px;'><h3>Grupo 1</h3><ul><li>VEKSELMAN</li><li>CORCOS</li><li>MATTALONI VARONA</li></ul></div><div style='height: 150px;'><h3>Grupo 2</h3><ul><li>DE LEON</li><li>IRIGOYEN</li><li>SCAPOLLA</li></ul></div><div style='height: 150px;'><h3>Grupo 3</h3><ul><li>QUIHILLALT</li><li>MINNUCCI</li><li>FRANCOIS</li><li>BATINIC REY</li></ul></div></div><div style='float: left; width: 100px;'><div style='height: 150px;'><h3>Grupo 1</h3><ul><li>QUIHILLALT</li><li>DE LEON</li><li>MATTALONI VARONA</li></ul></div><div style='height: 150px;'><h3>Grupo 2</h3><ul><li>MINNUCCI</li><li>CORCOS</li><li>SCAPOLLA</li></ul></div><div style='height: 150px;'><h3>Grupo 3</h3><ul><li>VEKSELMAN</li><li>FRANCOIS</li><li>IRIGOYEN</li><li>BATINIC REY</li></ul></div></div><div style='float: left; width: 100px;'><div style='height: 150px;'><h3>Grupo 1</h3><ul><li>VEKSELMAN</li><li>QUIHILLALT</li><li>DE LEON</li></ul></div><div style='height: 150px;'><h3>Grupo 2</h3><ul><li>MINNUCCI</li><li>CORCOS</li><li>FRANCOIS</li></ul></div><div style='height: 150px;'><h3>Grupo 3</h3><ul><li>IRIGOYEN</li><li>BATINIC REY</li><li>MATTALONI VARONA</li><li>SCAPOLLA</li></ul></div></div><div style='float: left; width: 100px;'><div style='height: 150px;'><h3>Grupo 1</h3><ul><li>VEKSELMAN</li><li>QUIHILLALT</li><li>DE LEON</li></ul></div><div style='height: 150px;'><h3>Grupo 2</h3><ul><li>MINNUCCI</li><li>CORCOS</li><li>BATINIC REY</li></ul></div><div style='height: 150px;'><h3>Grupo 3</h3><ul><li>FRANCOIS</li><li>IRIGOYEN</li><li>MATTALONI VARONA</li><li>SCAPOLLA</li></ul></div></div><div style='float: left; width: 100px;'><div style='height: 150px;'><h3>Grupo 1</h3><ul><li>VEKSELMAN</li><li>MINNUCCI</li><li>IRIGOYEN</li></ul></div><div style='height: 150px;'><h3>Grupo 2</h3><ul><li>QUIHILLALT</li><li>FRANCOIS</li><li>MATTALONI VARONA</li></ul></div><div style='height: 150px;'><h3>Grupo 3</h3><ul><li>DE LEON</li><li>CORCOS</li><li>BATINIC REY</li><li>SCAPOLLA</li></ul></div></div><div style='float: left; width: 100px;'><div style='height: 150px;'><h3>Grupo 1</h3><ul><li>VEKSELMAN</li><li>MINNUCCI</li><li>IRIGOYEN</li></ul></div><div style='height: 150px;'><h3>Grupo 2</h3><ul><li>QUIHILLALT</li><li>BATINIC REY</li><li>MATTALONI VARONA</li></ul></div><div style='height: 150px;'><h3>Grupo 3</h3><ul><li>DE LEON</li><li>CORCOS</li><li>FRANCOIS</li><li>SCAPOLLA</li></ul></div></div><div style='float: left; width: 100px;'><div style='height: 150px;'><h3>Grupo 1</h3><ul><li>VEKSELMAN</li><li>CORCOS</li><li>MATTALONI VARONA</li></ul></div><div style='height: 150px;'><h3>Grupo 2</h3><ul><li>DE LEON</li><li>FRANCOIS</li><li>IRIGOYEN</li></ul></div><div style='height: 150px;'><h3>Grupo 3</h3><ul><li>QUIHILLALT</li><li>MINNUCCI</li><li>BATINIC REY</li><li>SCAPOLLA</li></ul></div></div></div>"
      ],
      "text/plain": [
       "<IPython.core.display.HTML object>"
      ]
     },
     "metadata": {},
     "output_type": "display_data"
    }
   ],
   "source": [
    "from IPython.core.display import display, HTML\n",
    "\n",
    "\n",
    "display(HTML('<h1>Algoritmo buscando el siguiente menos costoso</h1>'))\n",
    "display(HTML(html_weeks(result)))"
   ]
  },
  {
   "cell_type": "code",
   "execution_count": 125,
   "metadata": {},
   "outputs": [
    {
     "data": {
      "image/png": "[encoded data removed]",
      "text/plain": [
       "<Figure size 432x288 with 1 Axes>"
      ]
     },
     "metadata": {
      "needs_background": "light"
     },
     "output_type": "display_data"
    }
   ],
   "source": [
    "%matplotlib inline\n",
    "from matplotlib import pyplot\n",
    "\n",
    "# Calculo cada una de las repeticiones acumuladas\n",
    "repeats = []\n",
    "for i in range(iterations):\n",
    "    repeats.append(total_weight(result[:i + 1]))\n",
    "    \n",
    "# Lo grafico en el tiempo de las semanas\n",
    "pyplot.plot([f'TP{i + 1}' for i in range(iterations)], repeats, color='red', marker='o', label='Repeticiones acumuladas')\n",
    "pyplot.legend()\n",
    "pyplot.grid()\n",
    "pyplot.show()"
   ]
  },
  {
   "cell_type": "code",
   "execution_count": null,
   "metadata": {},
   "outputs": [],
   "source": []
  }
 ],
 "metadata": {
  "kernelspec": {
   "display_name": "Python 3",
   "language": "python",
   "name": "python3"
  },
  "language_info": {
   "codemirror_mode": {
    "name": "ipython",
    "version": 3
   },
   "file_extension": ".py",
   "mimetype": "text/x-python",
   "name": "python",
   "nbconvert_exporter": "python",
   "pygments_lexer": "ipython3",
   "version": "3.7.4"
  }
 },
 "nbformat": 4,
 "nbformat_minor": 4
}
